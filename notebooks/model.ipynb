{
 "cells": [
  {
   "cell_type": "code",
   "execution_count": 2,
   "metadata": {},
   "outputs": [
    {
     "name": "stdout",
     "output_type": "stream",
     "text": [
      "<class 'pandas.core.frame.DataFrame'>\n",
      "Int64Index: 5200 entries, 20800 to 25999\n",
      "Data columns (total 1 columns):\n",
      " #   Column  Non-Null Count  Dtype\n",
      "---  ------  --------------  -----\n",
      " 0   label   5200 non-null   int64\n",
      "dtypes: int64(1)\n",
      "memory usage: 81.2 KB\n",
      "<class 'pandas.core.frame.DataFrame'>\n",
      "Int64Index: 5200 entries, 20800 to 25999\n",
      "Data columns (total 3 columns):\n",
      " #   Column  Non-Null Count  Dtype \n",
      "---  ------  --------------  ----- \n",
      " 0   title   5078 non-null   object\n",
      " 1   author  4697 non-null   object\n",
      " 2   text    5193 non-null   object\n",
      "dtypes: object(3)\n",
      "memory usage: 162.5+ KB\n"
     ]
    }
   ],
   "source": [
    "import pandas as pd\n",
    "import tensorflow as tf\n",
    "import matplotlib.pyplot as plt\n",
    "import nltk\n",
    "import numpy as np\n",
    "import pickle\n",
    "from keras.preprocessing.text import Tokenizer\n",
    "from keras.preprocessing.sequence import pad_sequences\n",
    "\n",
    "# from keras.utils import to_categorical\n",
    "\n",
    "train_data = pd.read_csv('../fake_news_data/train.csv')\n",
    "train_data = train_data.set_index('id')\n",
    "# train_data.head()\n",
    "\n",
    "test_data = pd.read_csv('../fake_news_data/test.csv')\n",
    "test_data = test_data.set_index('id')\n",
    "# test_data.head()\n",
    "\n",
    "submit = pd.read_csv('../fake_news_data/submit.csv')\n",
    "submit = submit.set_index('id')\n",
    "# submit.head()\n",
    "\n",
    "# train_data['text'][0]\n",
    "\n",
    "submit.info()\n",
    "test_data.info()\n",
    "\n",
    "from nltk.corpus import stopwords\n",
    "import re\n",
    "\n",
    "wnl = nltk.stem.WordNetLemmatizer()\n",
    "stop_words = set(stopwords.words('english'))\n",
    "\n",
    "#remove null values from train_data\n",
    "train_data = train_data.dropna()\n",
    "\n",
    "#remove null values from test_data\n",
    "test_data = test_data.join(submit)\n",
    "test_data = test_data.dropna()"
   ]
  },
  {
   "cell_type": "code",
   "execution_count": 3,
   "metadata": {},
   "outputs": [],
   "source": [
    "\n",
    "max_length = 1000\n",
    "num_words = 10000\n",
    "tokenizer = Tokenizer(num_words=num_words, lower=True)\n",
    "\n",
    "# train data\n",
    "tokenizer.fit_on_texts(train_data['text'])\n",
    "sequences = tokenizer.texts_to_sequences(train_data['text'])\n",
    "train_sequence = pad_sequences(sequences, maxlen=max_length, value=0.0, padding='post')\n",
    "# train_sequence = pad_sequences(sequences, value=0.0, padding='post')\n",
    "# train_labels = np.asarray(train_data['label'])\n",
    "train_labels = tf.keras.utils.to_categorical(train_data['label'], 2)\n",
    "word_index = tokenizer.word_index\n",
    "\n",
    "# test data\n",
    "tokenizer.fit_on_texts(test_data['text'])\n",
    "sequences = tokenizer.texts_to_sequences(test_data['text'])\n",
    "test_sequence = pad_sequences(sequences, maxlen=max_length, value=0.0, padding='post')\n",
    "# test_sequence = pad_sequences(sequences, value=0.0, padding='post')\n",
    "# test_labels = np.asarray(test_data['label'])\n",
    "# idx0 = 1 = fake\n",
    "# idx1 = 0 = real\n",
    "test_labels = tf.keras.utils.to_categorical(test_data['label'], 2)\n",
    "\n",
    "x_train = train_sequence\n",
    "y_train = train_labels\n",
    "x_test = test_sequence\n",
    "y_test = test_labels\n",
    "\n",
    "\n",
    "# saving tokens\n",
    "with open('../tokenizer/tokenizer.pickle', 'wb') as handle:\n",
    "    pickle.dump(tokenizer, handle, protocol=pickle.HIGHEST_PROTOCOL)"
   ]
  },
  {
   "cell_type": "code",
   "execution_count": 4,
   "metadata": {},
   "outputs": [
    {
     "name": "stdout",
     "output_type": "stream",
     "text": [
      "Model: \"sequential\"\n",
      "_________________________________________________________________\n",
      " Layer (type)                Output Shape              Param #   \n",
      "=================================================================\n",
      " embedding (Embedding)       (None, None, 32)          320000    \n",
      "                                                                 \n",
      " bidirectional (Bidirectiona  (None, None, 128)        49664     \n",
      " l)                                                              \n",
      "                                                                 \n",
      " bidirectional_1 (Bidirectio  (None, 32)               18560     \n",
      " nal)                                                            \n",
      "                                                                 \n",
      " dense (Dense)               (None, 64)                2112      \n",
      "                                                                 \n",
      " dropout (Dropout)           (None, 64)                0         \n",
      "                                                                 \n",
      " dense_1 (Dense)             (None, 1)                 65        \n",
      "                                                                 \n",
      "=================================================================\n",
      "Total params: 390,401\n",
      "Trainable params: 390,401\n",
      "Non-trainable params: 0\n",
      "_________________________________________________________________\n"
     ]
    }
   ],
   "source": [
    "# Define the model\n",
    "from keras.models import Sequential\n",
    "from keras.layers import Embedding, Flatten, Dense, Bidirectional, LSTM, Dropout\n",
    "  \n",
    "model = Sequential()\n",
    "# model.add(Embedding(num_words, 32, input_length=max_length))\n",
    "model.add(Embedding(num_words, 32))\n",
    "# model.add(Flatten())\n",
    "model.add(Bidirectional(LSTM(64, return_sequences=True)))\n",
    "model.add(Bidirectional(LSTM(16)))\n",
    "model.add(Dense(64, activation='relu'))\n",
    "model.add(Dropout(0.5))\n",
    "model.add(Dense(1))\n",
    "model.summary()"
   ]
  },
  {
   "cell_type": "code",
   "execution_count": 5,
   "metadata": {},
   "outputs": [
    {
     "name": "stdout",
     "output_type": "stream",
     "text": [
      "Found 400001 word vectors.\n"
     ]
    }
   ],
   "source": [
    "import os\n",
    "glove_dir = '../data/glove.6B'\n",
    "  \n",
    "embeddings_index = {}\n",
    "# use only one of 4 files from the glove vector set\n",
    "with open(os.path.join(glove_dir, 'glove.6B.100d.txt'),'rt', encoding='UTF-8') as f:\n",
    "    for line in f:\n",
    "        values = line.split()\n",
    "        word = values[0]\n",
    "        coefs = np.asarray(values[1:], dtype='float32')\n",
    "        embeddings_index[word] = coefs\n",
    "\n",
    "print('Found %s word vectors.' % len(embeddings_index))\n"
   ]
  },
  {
   "cell_type": "code",
   "execution_count": 6,
   "metadata": {},
   "outputs": [
    {
     "data": {
      "text/plain": [
       "10000"
      ]
     },
     "execution_count": 6,
     "metadata": {},
     "output_type": "execute_result"
    }
   ],
   "source": [
    "# Preparing the GloVe word embeddings matrix\n",
    "# embedding matrix that we can load into an Embedding layer. It must be a matrix of shape (max_words, embedding_dim), where each entry i contains the embedding_dim-dimensional vector for the word of index i in our reference word index (built during tokenization). Note that the index 0 isn’t supposed to stand for any word or token—it’s a placeholder.\n",
    "embedding_dim = 100\n",
    "  \n",
    "embedding_matrix = np.zeros((num_words, embedding_dim))\n",
    "for word, i in word_index.items():\n",
    "    embedding_vector = embeddings_index.get(word)\n",
    "    if i < num_words:\n",
    "        if embedding_vector is not None:\n",
    "            # Words not found in embedding index will be all-zeros.\n",
    "            embedding_matrix[i] = embedding_vector\n",
    "len(embedding_matrix)"
   ]
  },
  {
   "cell_type": "code",
   "execution_count": 7,
   "metadata": {},
   "outputs": [
    {
     "name": "stdout",
     "output_type": "stream",
     "text": [
      "Model: \"sequential_1\"\n",
      "_________________________________________________________________\n",
      " Layer (type)                Output Shape              Param #   \n",
      "=================================================================\n",
      " embedding_1 (Embedding)     (None, 1000, 100)         1000000   \n",
      "                                                                 \n",
      " flatten (Flatten)           (None, 100000)            0         \n",
      "                                                                 \n",
      " dense_2 (Dense)             (None, 64)                6400064   \n",
      "                                                                 \n",
      " dense_3 (Dense)             (None, 2)                 130       \n",
      "                                                                 \n",
      "=================================================================\n",
      "Total params: 7,400,194\n",
      "Trainable params: 7,400,194\n",
      "Non-trainable params: 0\n",
      "_________________________________________________________________\n"
     ]
    }
   ],
   "source": [
    "# Define the model\n",
    "from keras.models import Sequential\n",
    "from keras.layers import Embedding, Flatten, Dense, Bidirectional, LSTM, Dropout\n",
    "\n",
    "model = Sequential()\n",
    "model.add(Embedding(num_words, embedding_dim, input_length=max_length))\n",
    "# model.add(Embedding(num_words, 32, input_length=max_length))\n",
    "model.add(Flatten())\n",
    "model.add(Dense(64, activation='relu'))\n",
    "model.add(Dense(2, activation='sigmoid'))\n",
    "model.summary()"
   ]
  },
  {
   "cell_type": "code",
   "execution_count": 8,
   "metadata": {},
   "outputs": [
    {
     "name": "stdout",
     "output_type": "stream",
     "text": [
      "Epoch 1/5\n",
      "549/549 [==============================] - 12s 21ms/step - loss: 0.4801 - accuracy: 0.7719 - val_loss: 0.3834 - val_accuracy: 0.8464\n",
      "Epoch 2/5\n",
      "549/549 [==============================] - 11s 21ms/step - loss: 0.2219 - accuracy: 0.9324 - val_loss: 0.3395 - val_accuracy: 0.8513\n",
      "Epoch 3/5\n",
      "549/549 [==============================] - 11s 20ms/step - loss: 0.0990 - accuracy: 0.9865 - val_loss: 0.3508 - val_accuracy: 0.8502\n",
      "Epoch 4/5\n",
      "549/549 [==============================] - 11s 21ms/step - loss: 0.0440 - accuracy: 0.9984 - val_loss: 0.3692 - val_accuracy: 0.8464\n",
      "Epoch 5/5\n",
      "549/549 [==============================] - 11s 20ms/step - loss: 0.0221 - accuracy: 0.9995 - val_loss: 0.3666 - val_accuracy: 0.8557\n"
     ]
    }
   ],
   "source": [
    "model.layers[0].set_weights([embedding_matrix])\n",
    "model.layers[0].trainable = False\n",
    "\n",
    "# early_stop = tf.keras.callbacks.EarlyStopping(monitor='val_loss', patience=2, restore_best_weights=True)\n",
    "model.compile(optimizer=tf.keras.optimizers.Adam(1e-4),\n",
    "              loss='binary_crossentropy',\n",
    "              metrics=['accuracy'])\n",
    "history = model.fit(x_train, y_train,\n",
    "              epochs=5,\n",
    "              batch_size=30,\n",
    "              shuffle=True,\n",
    "              validation_split=0.1,\n",
    "              # callbacks=[early_stop]\n",
    "              )"
   ]
  },
  {
   "cell_type": "code",
   "execution_count": 9,
   "metadata": {},
   "outputs": [
    {
     "data": {
      "image/png": "[encoded data removed]",
      "text/plain": [
       "<Figure size 432x288 with 1 Axes>"
      ]
     },
     "metadata": {
      "needs_background": "light"
     },
     "output_type": "display_data"
    },
    {
     "data": {
      "image/png": "[encoded data removed]",
      "text/plain": [
       "<Figure size 432x288 with 1 Axes>"
      ]
     },
     "metadata": {
      "needs_background": "light"
     },
     "output_type": "display_data"
    }
   ],
   "source": [
    "# Plot performance over time\n",
    "import matplotlib.pyplot as plt\n",
    "  \n",
    "acc = history.history['accuracy']\n",
    "val_acc = history.history['val_accuracy']\n",
    "loss = history.history['loss']\n",
    "val_loss = history.history['val_loss']\n",
    "\n",
    "epochs = range(1, len(acc) + 1)\n",
    "\n",
    "plt.plot(epochs, acc, 'bo', label='Training acc')\n",
    "plt.plot(epochs, val_acc, 'b', label='Validation acc')\n",
    "plt.title('Training and validation accuracy')\n",
    "plt.legend()\n",
    "\n",
    "plt.figure()\n",
    "\n",
    "plt.plot(epochs, loss, 'bo', label='Training loss')\n",
    "plt.plot(epochs, val_loss, 'b', label='Validation loss')\n",
    "plt.title('Training and validation loss')\n",
    "plt.legend()\n",
    "\n",
    "plt.show()"
   ]
  },
  {
   "cell_type": "code",
   "execution_count": 14,
   "metadata": {},
   "outputs": [
    {
     "name": "stdout",
     "output_type": "stream",
     "text": [
      "143/143 [==============================] - 1s 7ms/step - loss: 0.7072 - accuracy: 0.7187\n"
     ]
    },
    {
     "data": {
      "text/plain": [
       "[0.707158625125885, 0.7186885476112366]"
      ]
     },
     "execution_count": 14,
     "metadata": {},
     "output_type": "execute_result"
    }
   ],
   "source": [
    "model.evaluate(x_test,y_test) # to beat 71%"
   ]
  },
  {
   "cell_type": "code",
   "execution_count": 11,
   "metadata": {},
   "outputs": [
    {
     "name": "stdout",
     "output_type": "stream",
     "text": [
      "INFO:tensorflow:Assets written to: ../saved_models\\assets\n"
     ]
    }
   ],
   "source": [
    "model.save('../saved_models')"
   ]
  },
  {
   "cell_type": "code",
   "execution_count": 12,
   "metadata": {},
   "outputs": [
    {
     "name": "stdout",
     "output_type": "stream",
     "text": [
      "143/143 [==============================] - 1s 8ms/step - loss: 0.7072 - accuracy: 0.7187\n"
     ]
    },
    {
     "data": {
      "text/plain": [
       "[0.707158625125885, 0.7186885476112366]"
      ]
     },
     "execution_count": 12,
     "metadata": {},
     "output_type": "execute_result"
    }
   ],
   "source": [
    "loaded_model = tf.keras.models.load_model('../saved_models')\n",
    "loaded_model.evaluate(x_test,y_test)"
   ]
  }
 ],
 "metadata": {
  "interpreter": {
   "hash": "4d9f47b65c263a2f9288544ef47d8d998eaca04285220615b645d93bb6e837d0"
  },
  "kernelspec": {
   "display_name": "Python 3.10.2 64-bit",
   "language": "python",
   "name": "python3"
  },
  "language_info": {
   "codemirror_mode": {
    "name": "ipython",
    "version": 3
   },
   "file_extension": ".py",
   "mimetype": "text/x-python",
   "name": "python",
   "nbconvert_exporter": "python",
   "pygments_lexer": "ipython3",
   "version": "3.10.2"
  },
  "orig_nbformat": 4
 },
 "nbformat": 4,
 "nbformat_minor": 2
}
